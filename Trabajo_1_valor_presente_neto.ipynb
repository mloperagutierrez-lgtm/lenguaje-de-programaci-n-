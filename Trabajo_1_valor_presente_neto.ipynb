{
  "nbformat": 4,
  "nbformat_minor": 0,
  "metadata": {
    "colab": {
      "provenance": []
    },
    "kernelspec": {
      "name": "python3",
      "display_name": "Python 3"
    },
    "language_info": {
      "name": "python"
    }
  },
  "cells": [
    {
      "cell_type": "code",
      "execution_count": null,
      "metadata": {
        "id": "Wx2j_LiwkTKJ"
      },
      "outputs": [],
      "source": []
    },
    {
      "cell_type": "markdown",
      "source": [
        "# Valor Presente Neto (VPN)\n",
        "El VPN es el valor de los flujos de efectivos proyectados con el descuento al presente. Es decir, es una métrica que sirve para analizar la rentabilidad de las inversiones o proyectos pendientes como la internacionalización de empresas.\n",
        "\n",
        "Si lo calculas con precisión, conocerás el ROI esperado en las operaciones que vas a llevar a cabo en cada fase de tu startup.\n",
        "\n",
        "Asimismo, te será de gran utilidad para comparar los flujos del negocio en momentos anteriores de la empresa en aras de certificar la viabilidad de la inversión.\n",
        "\n",
        "En definitiva: es un recurso clave con el que averiguar el margen de beneficios que vas a obtener por los pasos que vayas dando con la startup.\n",
        "\n",
        "##Formula Valor Presente Neto (vpn)\n",
        "\\[\n",
        "$$\n",
        "VPN = \\sum_{t=0}^{n} \\frac{c_t}{(1+r)^t} - c_0\n",
        "$$\n",
        "\n",
        "\\]\n",
        "\n",
        "Donde:\n",
        "- \\(c_t\\) es el flujo de caja en el tiempo \\(t\\).\n",
        "- \\(r\\) es la tasa de descuento.\n",
        "- \\(n\\) es el numero total de periodos.\n",
        "- \\(c_0\\) es la inversion incial.\n",
        "\n",
        "## Interpretación\n",
        "\n",
        "- si \\(VPN > 0\\), la inversión es rentable.\n",
        "- si \\(VPN < 0\\), La inversión no es rentable.\n",
        "- si \\(VPN = 0\\), La inversión no genera ni pérdidas ni ganacias.\n",
        "\n",
        "## Enlace útil\n",
        "\n",
        "Para obtener más información sobre el valor presente neto, puedes consultar el siguiente [enlace](https://leanfinance.es/blog/valor-presente-neto/).\n",
        "\n",
        "##Formula Valor Presente Neto (vpn)\n",
        "\\[\n",
        "$$\n",
        "VPN = \\sum_{t=0}^{n} \\frac{c_t}{(1+r)^t} - c_0\n",
        "$$\n",
        "\n",
        "\\]\n",
        "\n"
      ],
      "metadata": {
        "id": "s6Odpw0okmVD"
      }
    },
    {
      "cell_type": "code",
      "source": [
        "inversion_inicial= 20000\n",
        "flujo_ano_1 = 4000\n",
        "flujo_ano_2 = 4000\n",
        "flujo_ano_3 = 4000\n",
        "\n",
        "tasa_descuento = 0.05"
      ],
      "metadata": {
        "id": "nNNJimjYs9VI"
      },
      "execution_count": 3,
      "outputs": []
    },
    {
      "cell_type": "code",
      "source": [
        "vpn = (flujo_ano_1 / (1 + tasa_descuento)**1) + \\\n",
        "      (flujo_ano_2 / (1 + tasa_descuento)**2) + \\\n",
        "      (flujo_ano_3 / (1 + tasa_descuento)**3) - inversion_inicial\n",
        "\n",
        "print(\"El valor presente Neto (VPN) es:\", vpn)\n"
      ],
      "metadata": {
        "colab": {
          "base_uri": "https://localhost:8080/"
        },
        "id": "sOtVn98OyKhq",
        "outputId": "d0ffaae3-d3d3-4b00-a857-f5c7a8c40aa7"
      },
      "execution_count": 9,
      "outputs": [
        {
          "output_type": "stream",
          "name": "stdout",
          "text": [
            "El valor presente Neto (VPN) es: -9107.007882518086\n"
          ]
        }
      ]
    },
    {
      "cell_type": "code",
      "source": [
        "if vpn > 0:\n",
        "    print(\"El proyecto es viable, ya que el VPN es positivo.\")\n",
        "\n",
        "else:\n",
        "    print(\"El proyecto no es viable, ya que el VPN es negativo.\")"
      ],
      "metadata": {
        "colab": {
          "base_uri": "https://localhost:8080/"
        },
        "id": "Uyevr5D4vaIK",
        "outputId": "9cbff5ca-6542-443e-be09-4c23ba9ccf05"
      },
      "execution_count": 10,
      "outputs": [
        {
          "output_type": "stream",
          "name": "stdout",
          "text": [
            "El proyecto no es viable, ya que el VPN es negativo.\n"
          ]
        }
      ]
    }
  ]
}